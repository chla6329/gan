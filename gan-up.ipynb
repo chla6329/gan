{
 "cells": [
  {
   "cell_type": "markdown",
   "metadata": {},
   "source": [
    "# Import Libraries"
   ]
  },
  {
   "cell_type": "code",
   "execution_count": 1,
   "metadata": {
    "_cell_guid": "b1076dfc-b9ad-4769-8c92-a6c4dae69d19",
    "_uuid": "8f2839f25d086af736a60e9eeb907d3b93b6e0e5"
   },
   "outputs": [
    {
     "name": "stderr",
     "output_type": "stream",
     "text": [
      "Using TensorFlow backend.\n"
     ]
    }
   ],
   "source": [
    "import numpy as np\n",
    "import pandas as pd \n",
    "import keras\n",
    "from PIL import Image\n",
    "import warnings\n",
    "import os\n",
    "import time\n",
    "from glob import glob\n",
    "import datetime\n",
    "import matplotlib.pyplot as plt\n",
    "import seaborn as sns\n",
    "import numpy as np, pandas as pd, os\n",
    "import xml.etree.eleTres as ET \n",
    "import matplotlib.pyplot as plt, zipfile \n",
    "from PIL import Image \n",
    "from glob import glob\n",
    "from keras.layers import Input, Dense, Reshape, Flatten, Dropout,Concatenate \n",
    "from keras.models import Sequential, Model\n",
    "from keras.optimizers import Adam\n",
    "from keras.layers import concatenate\n",
    "from keras.initializers import TruncatedNormal\n",
    "from keras.callbacks import LearningRateScheduler, EarlyStopping, History"
   ]
  },
  {
   "cell_type": "code",
   "execution_count": 2,
   "metadata": {},
   "outputs": [
    {
     "name": "stdout",
     "output_type": "stream",
     "text": [
      "['all-dogs', 'annotation']\n"
     ]
    }
   ],
   "source": [
    "print(os.listdir(\"../input/\"))"
   ]
  },
  {
   "cell_type": "code",
   "execution_count": null,
   "metadata": {
    "_kg_hide-output": true
   },
   "outputs": [],
   "source": [
    "ComputeLB = False\n",
    "DogsOnly = False\n",
    "\n",
    "import numpy as np, pandas as pd, os\n",
    "import xml.etree.eleTres as ET \n",
    "import matplotlib.pyplot as plt, zipfile \n",
    "from PIL import Image \n",
    "\n",
    "BASE = '../input/gan/'\n",
    "if not ComputeLB: BASE = '../input/'\n",
    "IMAGES = os.listdir(BASE + 'all-dogs/all-dogs/')\n",
    "breeds = os.listdir(BASE + 'annot/annot/') \n",
    "\n",
    "idxIn = 0; namesIn = []\n",
    "imagesIn = np.zeros((25000,64,64,3))\n",
    " \n",
    "if DogsOnly:\n",
    "    for breed in breeds:\n",
    "        for dog in os.listdir(BASE+'annot/annot/'+breed):\n",
    "            try: img = Image.open(BASE+'all-dogs/all-dogs/'+dog+'.jpg') \n",
    "            except: continue           \n",
    "            tree = ET.parse(BASE+'annot/annot/'+breed+'/'+dog)\n",
    "            BASE = tree.getBASE()\n",
    "            objects = BASE.findall('object') \n",
    "    idx = np.arange(idxIn)\n",
    "    np.random.shuffle(idx)\n",
    "    imagesIn = imagesIn[idx,:,:,:]\n",
    "    namesIn = np.array(namesIn)[idx]\n",
    "     \n",
    "else:\n",
    "    IMAGES = np.sort(IMAGES)\n",
    "    np.random.seed(810)\n",
    "    x = np.random.choice(np.arange(20579),10000 \n",
    "     \n",
    "x = np.random.randint(0,idxIn,25)\n",
    "for k in range(5):\n",
    "    plt.figure(figsize=(15,3))\n",
    "    for j in range(5):\n",
    "        plt.subplot(1,5,j+1)\n",
    "        img = Image.fromarray( imagesIn[x[k*5+j],:,:,:].astype('uint8') )\n",
    "        plt.axis('off')\n",
    "        if not DogsOnly: plt.title(namesIn[x[k*5+j]],fontsize=11)\n",
    "        else: plt.title(namesIn[x[k*5+j]].split('-')[1],fontsize=11)\n",
    "        plt.imshow(img)\n",
    "    plt.show()"
   ]
  },
  {
   "cell_type": "code",
   "execution_count": 7,
   "metadata": {},
   "outputs": [],
   "source": [
    "def GeneratorFunction(noise_shape=(N_SI,)):\n",
    "    input_layer = Input(noise_shape)\n",
    "    generated = Dense(12288, activation='linear')(input_layer) \n",
    "    model = Model(inputs=input_layer,outputs = [generated,Reshape((10000,))(input_layer)])\n",
    "    model.summary()\n",
    "  \n",
    "    return model"
   ]
  },
  {
   "cell_type": "code",
   "execution_count": 8,
   "metadata": {},
   "outputs": [
    {
     "name": "stdout",
     "output_type": "stream",
     "text": [
      "Generator\n",
      "__________________________________________________________________________________________________\n",
      "Layer (type)                    Output Shape         Param #     Connected to                     \n",
      "==================================================================================================\n",
      "input_3 (InputLayer)            (None, 10000)        0                                            \n",
      "__________________________________________________________________________________________________\n",
      "dense_2 (Dense)                 (None, 12288)        122892288   input_3[0][0]                    \n",
      "__________________________________________________________________________________________________\n",
      "reshape_2 (Reshape)             (None, 10000)        0           input_3[0][0]                    \n",
      "==================================================================================================\n",
      "Total params: 122,892,288\n",
      "Trainable params: 122,892,288\n",
      "Non-trainable params: 0\n",
      "__________________________________________________________________________________________________\n"
     ]
    }
   ],
   "source": [
    "print(\"Generator\")\n",
    "model_generator = GeneratorFunction(noise_shape=(N_SI,))"
   ]
  },
  {
   "cell_type": "markdown",
   "metadata": {},
   "source": [
    "# Train the Discriminator"
   ]
  },
  {
   "cell_type": "code",
   "execution_count": 9,
   "metadata": {},
   "outputs": [
    {
     "name": "stdout",
     "output_type": "stream",
     "text": [
      "Epoch 10 /50 - loss = 0.5324619684696198\n",
      "Epoch 20 /50 - loss = 0.5324463943481446\n",
      "Epoch 30 /50 - loss = 0.5324408501625061\n",
      "Epoch 40 /50 - loss = 0.5324368857383728\n",
      "Epoch 50 /50 - loss = 0.5324339078426361\n"
     ]
    }
   ],
   "source": [
    "# TRAINING DATA\n",
    "train_y = (imagesIn[:10000,:,:,:]/255.).reshape((-1,12288))\n",
    "train_X = np.zeros((10000,10000))\n",
    "for i in range(10000): train_X[i,i] = 1\n",
    "zeros = np.zeros((10000,12288))\n",
    "\n",
    "# ---------------------\n",
    "#  Train Discriminator\n",
    "# ---------------------\n",
    "\n",
    "lr = 0.5\n",
    "for k in range(5):\n",
    "    LR_Scheduler = LearningRateScheduler(lambda x: lr)\n",
    "    h = model_discriminator.fit([zeros,train_X], train_y, epochs = 100,batch_size = BATCH_SIZE, callbacks=[LR_Scheduler], verbose=0)\n",
    "    print('Epoch',(k+1)*10,'/50 - loss =',h.history['loss'][-1] )\n",
    "    if h.history['loss'][-1]<0.533: lr = 0.1"
   ]
  },
  {
   "cell_type": "code",
   "execution_count": 10,
   "metadata": {},
   "outputs": [],
   "source": [
    "del train_X, train_y, imagesIn"
   ]
  },
  {
   "cell_type": "markdown",
   "metadata": {},
   "source": [
    "# Build the GAN"
   ]
  },
  {
   "cell_type": "code",
   "execution_count": 12,
   "metadata": {},
   "outputs": [
    {
     "name": "stdout",
     "output_type": "stream",
     "text": [
      "Model created based on Discriminator and Generator\n",
      "__________________________________________________________________________________________________\n",
      "Layer (type)                    Output Shape         Param #     Connected to                     \n",
      "==================================================================================================\n",
      "input_4 (InputLayer)            (None, 10000)        0                                            \n",
      "__________________________________________________________________________________________________\n",
      "model_2 (Model)                 [(None, 12288), (Non 122892288   input_4[0][0]                    \n",
      "__________________________________________________________________________________________________\n",
      "model_1 (Model)                 (None, 12288)        122892290   model_2[1][0]                    \n",
      "                                                                 model_2[1][1]                    \n",
      "==================================================================================================\n",
      "Total params: 245,784,578\n",
      "Trainable params: 122,892,288\n",
      "Non-trainable params: 122,892,290\n",
      "__________________________________________________________________________________________________\n"
     ]
    }
   ],
   "source": [
    "# BUILD GENERATIVE ADVERSARIAL NETWORK\n",
    "model_discriminator.trainable = False #discriminator is not trainable for GANs\n",
    "z = Input(shape=(N_SI,))\n",
    "img = model_generator(z)\n",
    "real = model_discriminator(img)\n",
    "\n",
    "# COMPILE GAN\n",
    "gan = Model(z, real)\n",
    "gan.get_layer('model_1').get_layer('layer_1').set_weights([np.array([[[[-1 ]]],[[[255.]]]])])\n",
    "gan.compile(optimizer=Adam(5), loss='mean_squared_error')\n",
    "\n",
    "# DISPLAY ARCHITECTURE\n",
    "print(\"Model created based on Discriminator and Generator\")\n",
    "gan.summary()"
   ]
  },
  {
   "cell_type": "markdown",
   "metadata": {},
   "source": [
    "# Train the GAN"
   ]
  },
  {
   "cell_type": "code",
   "execution_count": 13,
   "metadata": {},
   "outputs": [
    {
     "name": "stdout",
     "output_type": "stream",
     "text": [
      "Training begins... Total steps per epoch: 50\n"
     ]
    }
   ],
   "source": [
    "train = np.zeros((10000,10000))\n",
    "for i in range(10000): train[i,i] = 1\n",
    "zeros = np.zeros((10000,12288))\n",
    "\n",
    "Steps_per_epoch = 50\n",
    "\n",
    "print(\"Training begins... Total steps per epoch: {}\".format(Steps_per_epoch ))\n"
   ]
  },
  {
   "cell_type": "markdown",
   "metadata": {},
   "source": [
    "# Submit to Kaggle"
   ]
  },
  {
   "cell_type": "code",
   "execution_count": 15,
   "metadata": {},
   "outputs": [],
   "source": [
    "class DogGenerator:\n",
    "    index = 0   \n",
    "    def getDog(self,seed):\n",
    "        xx = np.zeros((10000))\n",
    "        xx[self.index] = 0.999\n",
    "        xx[np.random.randint(10000)] = 0.001\n",
    "        img = model_generator.predict(xx.reshape((-1,10000)))[0].reshape((64,64,3))\n",
    "        self.index = (self.index+1)%10000\n",
    "        return Image.fromarray( img.astype('uint8') ) "
   ]
  }
 ],
 "metadata": {
  "kernelspec": {
   "display_name": "Python 3",
   "language": "python",
   "name": "python3"
  },
  "language_info": {
   "codemirror_mode": {
    "name": "ipython",
    "version": 3
   },
   "file_extension": ".py",
   "mimetype": "text/x-python",
   "name": "python",
   "nbconvert_exporter": "python",
   "pygments_lexer": "ipython3",
   "version": "3.6.6"
  }
 },
 "nbformat": 4,
 "nbformat_minor": 1
}
